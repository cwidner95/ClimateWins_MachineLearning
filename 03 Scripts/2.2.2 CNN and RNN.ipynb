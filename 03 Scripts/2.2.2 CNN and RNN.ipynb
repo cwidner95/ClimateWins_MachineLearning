{
 "cells": [
  {
   "cell_type": "markdown",
   "id": "0eed08c6-dd1b-4055-8d8e-09b6f8784d16",
   "metadata": {},
   "source": [
    "# 2.2.2 CNN and RNN\n",
    "## This srcipt contains the following points:\n",
    "### 01. Importing Libraries and Data\n",
    "### 02. Splitting Data\n",
    "### 03. Convolution Neural Network (CNN)\n",
    "### 04. Recurrent Neural Network (RNN)"
   ]
  },
  {
   "cell_type": "markdown",
   "id": "ae2333d4-391f-461f-a950-20f7236b7517",
   "metadata": {},
   "source": [
    "### 01. Importing Libraries and Data"
   ]
  },
  {
   "cell_type": "code",
   "execution_count": 1,
   "id": "249f2b44-1bc8-4357-8a42-9557e4f00a47",
   "metadata": {},
   "outputs": [
    {
     "name": "stderr",
     "output_type": "stream",
     "text": [
      "2024-08-27 09:23:34.356484: I tensorflow/core/util/port.cc:153] oneDNN custom operations are on. You may see slightly different numerical results due to floating-point round-off errors from different computation orders. To turn them off, set the environment variable `TF_ENABLE_ONEDNN_OPTS=0`.\n",
      "2024-08-27 09:23:34.356910: I external/local_xla/xla/tsl/cuda/cudart_stub.cc:32] Could not find cuda drivers on your machine, GPU will not be used.\n",
      "2024-08-27 09:23:34.358968: I external/local_xla/xla/tsl/cuda/cudart_stub.cc:32] Could not find cuda drivers on your machine, GPU will not be used.\n",
      "2024-08-27 09:23:34.364946: E external/local_xla/xla/stream_executor/cuda/cuda_fft.cc:485] Unable to register cuFFT factory: Attempting to register factory for plugin cuFFT when one has already been registered\n",
      "2024-08-27 09:23:34.374902: E external/local_xla/xla/stream_executor/cuda/cuda_dnn.cc:8454] Unable to register cuDNN factory: Attempting to register factory for plugin cuDNN when one has already been registered\n",
      "2024-08-27 09:23:34.377713: E external/local_xla/xla/stream_executor/cuda/cuda_blas.cc:1452] Unable to register cuBLAS factory: Attempting to register factory for plugin cuBLAS when one has already been registered\n",
      "2024-08-27 09:23:34.385009: I tensorflow/core/platform/cpu_feature_guard.cc:210] This TensorFlow binary is optimized to use available CPU instructions in performance-critical operations.\n",
      "To enable the following instructions: AVX2 AVX_VNNI FMA, in other operations, rebuild TensorFlow with the appropriate compiler flags.\n",
      "2024-08-27 09:23:34.884953: W tensorflow/compiler/tf2tensorrt/utils/py_utils.cc:38] TF-TRT Warning: Could not find TensorRT\n"
     ]
    }
   ],
   "source": [
    "# Importing Libraries\n",
    "import pandas as pd\n",
    "import numpy as np\n",
    "import seaborn as sns\n",
    "import os\n",
    "import operator\n",
    "import matplotlib.pyplot as plt\n",
    "from sklearn.model_selection import train_test_split\n",
    "from sklearn.preprocessing import LabelEncoder\n",
    "import tensorflow as tf\n",
    "from numpy import reshape\n",
    "from keras.models import Sequential\n",
    "from keras.layers import Conv1D, Conv2D, Dense, BatchNormalization, Flatten, MaxPooling1D, Dense, Dropout\n",
    "from tensorflow.keras.utils import to_categorical\n",
    "from keras.models import Sequential\n",
    "from keras.layers import LSTM"
   ]
  },
  {
   "cell_type": "code",
   "execution_count": 4,
   "id": "0379c304-0203-47f6-ad46-3b5cfa9742b6",
   "metadata": {},
   "outputs": [],
   "source": [
    "# Creating path variable\n",
    "path = r'/home/cwidner/Documents/CareerFoundry/MachineLearning'"
   ]
  },
  {
   "cell_type": "code",
   "execution_count": 5,
   "id": "d420eb3c-fae6-48fe-9f64-d36cea4a7355",
   "metadata": {},
   "outputs": [
    {
     "data": {
      "text/plain": [
       "(22950, 136)"
      ]
     },
     "execution_count": 5,
     "metadata": {},
     "output_type": "execute_result"
    }
   ],
   "source": [
    "# Loading in cleaned weather dataset\n",
    "df_weather = pd.read_csv(os.path.join(path,'02 Data','Prepared Data','weather_cleaned.csv'),index_col=False)\n",
    "df_weather.shape"
   ]
  },
  {
   "cell_type": "code",
   "execution_count": 6,
   "id": "73a3c7f6-23e9-422f-8ce6-6c9122ddd421",
   "metadata": {},
   "outputs": [
    {
     "data": {
      "text/html": [
       "<div>\n",
       "<style scoped>\n",
       "    .dataframe tbody tr th:only-of-type {\n",
       "        vertical-align: middle;\n",
       "    }\n",
       "\n",
       "    .dataframe tbody tr th {\n",
       "        vertical-align: top;\n",
       "    }\n",
       "\n",
       "    .dataframe thead th {\n",
       "        text-align: right;\n",
       "    }\n",
       "</style>\n",
       "<table border=\"1\" class=\"dataframe\">\n",
       "  <thead>\n",
       "    <tr style=\"text-align: right;\">\n",
       "      <th></th>\n",
       "      <th>BASEL_cloud_cover</th>\n",
       "      <th>BASEL_humidity</th>\n",
       "      <th>BASEL_pressure</th>\n",
       "      <th>BASEL_global_radiation</th>\n",
       "      <th>BASEL_precipitation</th>\n",
       "      <th>BASEL_sunshine</th>\n",
       "      <th>BASEL_temp_mean</th>\n",
       "      <th>BASEL_temp_min</th>\n",
       "      <th>BASEL_temp_max</th>\n",
       "      <th>BELGRADE_cloud_cover</th>\n",
       "      <th>...</th>\n",
       "      <th>STOCKHOLM_temp_max</th>\n",
       "      <th>VALENTIA_cloud_cover</th>\n",
       "      <th>VALENTIA_humidity</th>\n",
       "      <th>VALENTIA_pressure</th>\n",
       "      <th>VALENTIA_global_radiation</th>\n",
       "      <th>VALENTIA_precipitation</th>\n",
       "      <th>VALENTIA_sunshine</th>\n",
       "      <th>VALENTIA_temp_mean</th>\n",
       "      <th>VALENTIA_temp_min</th>\n",
       "      <th>VALENTIA_temp_max</th>\n",
       "    </tr>\n",
       "  </thead>\n",
       "  <tbody>\n",
       "    <tr>\n",
       "      <th>0</th>\n",
       "      <td>7</td>\n",
       "      <td>0.85</td>\n",
       "      <td>1.018</td>\n",
       "      <td>0.32</td>\n",
       "      <td>0.09</td>\n",
       "      <td>0.7</td>\n",
       "      <td>6.5</td>\n",
       "      <td>0.8</td>\n",
       "      <td>10.9</td>\n",
       "      <td>1</td>\n",
       "      <td>...</td>\n",
       "      <td>4.9</td>\n",
       "      <td>5</td>\n",
       "      <td>0.88</td>\n",
       "      <td>1.0003</td>\n",
       "      <td>0.45</td>\n",
       "      <td>0.34</td>\n",
       "      <td>4.7</td>\n",
       "      <td>8.5</td>\n",
       "      <td>6.0</td>\n",
       "      <td>10.9</td>\n",
       "    </tr>\n",
       "    <tr>\n",
       "      <th>1</th>\n",
       "      <td>6</td>\n",
       "      <td>0.84</td>\n",
       "      <td>1.018</td>\n",
       "      <td>0.36</td>\n",
       "      <td>1.05</td>\n",
       "      <td>1.1</td>\n",
       "      <td>6.1</td>\n",
       "      <td>3.3</td>\n",
       "      <td>10.1</td>\n",
       "      <td>6</td>\n",
       "      <td>...</td>\n",
       "      <td>5.0</td>\n",
       "      <td>7</td>\n",
       "      <td>0.91</td>\n",
       "      <td>1.0007</td>\n",
       "      <td>0.25</td>\n",
       "      <td>0.84</td>\n",
       "      <td>0.7</td>\n",
       "      <td>8.9</td>\n",
       "      <td>5.6</td>\n",
       "      <td>12.1</td>\n",
       "    </tr>\n",
       "    <tr>\n",
       "      <th>2</th>\n",
       "      <td>8</td>\n",
       "      <td>0.90</td>\n",
       "      <td>1.018</td>\n",
       "      <td>0.18</td>\n",
       "      <td>0.30</td>\n",
       "      <td>0.0</td>\n",
       "      <td>8.5</td>\n",
       "      <td>5.1</td>\n",
       "      <td>9.9</td>\n",
       "      <td>6</td>\n",
       "      <td>...</td>\n",
       "      <td>4.1</td>\n",
       "      <td>7</td>\n",
       "      <td>0.91</td>\n",
       "      <td>1.0096</td>\n",
       "      <td>0.17</td>\n",
       "      <td>0.08</td>\n",
       "      <td>0.1</td>\n",
       "      <td>10.5</td>\n",
       "      <td>8.1</td>\n",
       "      <td>12.9</td>\n",
       "    </tr>\n",
       "    <tr>\n",
       "      <th>3</th>\n",
       "      <td>3</td>\n",
       "      <td>0.92</td>\n",
       "      <td>1.018</td>\n",
       "      <td>0.58</td>\n",
       "      <td>0.00</td>\n",
       "      <td>4.1</td>\n",
       "      <td>6.3</td>\n",
       "      <td>3.8</td>\n",
       "      <td>10.6</td>\n",
       "      <td>8</td>\n",
       "      <td>...</td>\n",
       "      <td>2.3</td>\n",
       "      <td>7</td>\n",
       "      <td>0.86</td>\n",
       "      <td>1.0184</td>\n",
       "      <td>0.13</td>\n",
       "      <td>0.98</td>\n",
       "      <td>0.0</td>\n",
       "      <td>7.4</td>\n",
       "      <td>7.3</td>\n",
       "      <td>10.6</td>\n",
       "    </tr>\n",
       "    <tr>\n",
       "      <th>4</th>\n",
       "      <td>6</td>\n",
       "      <td>0.95</td>\n",
       "      <td>1.018</td>\n",
       "      <td>0.65</td>\n",
       "      <td>0.14</td>\n",
       "      <td>5.4</td>\n",
       "      <td>3.0</td>\n",
       "      <td>-0.7</td>\n",
       "      <td>6.0</td>\n",
       "      <td>8</td>\n",
       "      <td>...</td>\n",
       "      <td>4.3</td>\n",
       "      <td>3</td>\n",
       "      <td>0.80</td>\n",
       "      <td>1.0328</td>\n",
       "      <td>0.46</td>\n",
       "      <td>0.00</td>\n",
       "      <td>5.7</td>\n",
       "      <td>5.7</td>\n",
       "      <td>3.0</td>\n",
       "      <td>8.4</td>\n",
       "    </tr>\n",
       "  </tbody>\n",
       "</table>\n",
       "<p>5 rows × 135 columns</p>\n",
       "</div>"
      ],
      "text/plain": [
       "   BASEL_cloud_cover  BASEL_humidity  BASEL_pressure  BASEL_global_radiation  \\\n",
       "0                  7            0.85           1.018                    0.32   \n",
       "1                  6            0.84           1.018                    0.36   \n",
       "2                  8            0.90           1.018                    0.18   \n",
       "3                  3            0.92           1.018                    0.58   \n",
       "4                  6            0.95           1.018                    0.65   \n",
       "\n",
       "   BASEL_precipitation  BASEL_sunshine  BASEL_temp_mean  BASEL_temp_min  \\\n",
       "0                 0.09             0.7              6.5             0.8   \n",
       "1                 1.05             1.1              6.1             3.3   \n",
       "2                 0.30             0.0              8.5             5.1   \n",
       "3                 0.00             4.1              6.3             3.8   \n",
       "4                 0.14             5.4              3.0            -0.7   \n",
       "\n",
       "   BASEL_temp_max  BELGRADE_cloud_cover  ...  STOCKHOLM_temp_max  \\\n",
       "0            10.9                     1  ...                 4.9   \n",
       "1            10.1                     6  ...                 5.0   \n",
       "2             9.9                     6  ...                 4.1   \n",
       "3            10.6                     8  ...                 2.3   \n",
       "4             6.0                     8  ...                 4.3   \n",
       "\n",
       "   VALENTIA_cloud_cover  VALENTIA_humidity  VALENTIA_pressure  \\\n",
       "0                     5               0.88             1.0003   \n",
       "1                     7               0.91             1.0007   \n",
       "2                     7               0.91             1.0096   \n",
       "3                     7               0.86             1.0184   \n",
       "4                     3               0.80             1.0328   \n",
       "\n",
       "   VALENTIA_global_radiation  VALENTIA_precipitation  VALENTIA_sunshine  \\\n",
       "0                       0.45                    0.34                4.7   \n",
       "1                       0.25                    0.84                0.7   \n",
       "2                       0.17                    0.08                0.1   \n",
       "3                       0.13                    0.98                0.0   \n",
       "4                       0.46                    0.00                5.7   \n",
       "\n",
       "   VALENTIA_temp_mean  VALENTIA_temp_min  VALENTIA_temp_max  \n",
       "0                 8.5                6.0               10.9  \n",
       "1                 8.9                5.6               12.1  \n",
       "2                10.5                8.1               12.9  \n",
       "3                 7.4                7.3               10.6  \n",
       "4                 5.7                3.0                8.4  \n",
       "\n",
       "[5 rows x 135 columns]"
      ]
     },
     "execution_count": 6,
     "metadata": {},
     "output_type": "execute_result"
    }
   ],
   "source": [
    "df_weather.drop(columns=['Unnamed: 0'], inplace=True)\n",
    "df_weather.head()"
   ]
  },
  {
   "cell_type": "code",
   "execution_count": 7,
   "id": "25831c8c-eb27-491f-bf78-bc688d2e10a9",
   "metadata": {},
   "outputs": [
    {
     "data": {
      "text/plain": [
       "(22950, 16)"
      ]
     },
     "execution_count": 7,
     "metadata": {},
     "output_type": "execute_result"
    }
   ],
   "source": [
    "# Loading in cleaned pleasant dataset\n",
    "df_pleasant = pd.read_csv(os.path.join(path,'02 Data','Prepared Data','pleasant_weather_cleaned.csv'),index_col=False)\n",
    "df_pleasant.shape"
   ]
  },
  {
   "cell_type": "code",
   "execution_count": 8,
   "id": "5fd19c88-7f3c-4b78-ba3a-83470675ea36",
   "metadata": {},
   "outputs": [
    {
     "data": {
      "text/html": [
       "<div>\n",
       "<style scoped>\n",
       "    .dataframe tbody tr th:only-of-type {\n",
       "        vertical-align: middle;\n",
       "    }\n",
       "\n",
       "    .dataframe tbody tr th {\n",
       "        vertical-align: top;\n",
       "    }\n",
       "\n",
       "    .dataframe thead th {\n",
       "        text-align: right;\n",
       "    }\n",
       "</style>\n",
       "<table border=\"1\" class=\"dataframe\">\n",
       "  <thead>\n",
       "    <tr style=\"text-align: right;\">\n",
       "      <th></th>\n",
       "      <th>BASEL_pleasant_weather</th>\n",
       "      <th>BELGRADE_pleasant_weather</th>\n",
       "      <th>BUDAPEST_pleasant_weather</th>\n",
       "      <th>DEBILT_pleasant_weather</th>\n",
       "      <th>DUSSELDORF_pleasant_weather</th>\n",
       "      <th>HEATHROW_pleasant_weather</th>\n",
       "      <th>KASSEL_pleasant_weather</th>\n",
       "      <th>LJUBLJANA_pleasant_weather</th>\n",
       "      <th>MAASTRICHT_pleasant_weather</th>\n",
       "      <th>MADRID_pleasant_weather</th>\n",
       "      <th>MUNCHENB_pleasant_weather</th>\n",
       "      <th>OSLO_pleasant_weather</th>\n",
       "      <th>SONNBLICK_pleasant_weather</th>\n",
       "      <th>STOCKHOLM_pleasant_weather</th>\n",
       "      <th>VALENTIA_pleasant_weather</th>\n",
       "    </tr>\n",
       "  </thead>\n",
       "  <tbody>\n",
       "    <tr>\n",
       "      <th>0</th>\n",
       "      <td>0</td>\n",
       "      <td>0</td>\n",
       "      <td>0</td>\n",
       "      <td>0</td>\n",
       "      <td>0</td>\n",
       "      <td>0</td>\n",
       "      <td>0</td>\n",
       "      <td>0</td>\n",
       "      <td>0</td>\n",
       "      <td>0</td>\n",
       "      <td>0</td>\n",
       "      <td>0</td>\n",
       "      <td>0</td>\n",
       "      <td>0</td>\n",
       "      <td>0</td>\n",
       "    </tr>\n",
       "    <tr>\n",
       "      <th>1</th>\n",
       "      <td>0</td>\n",
       "      <td>0</td>\n",
       "      <td>0</td>\n",
       "      <td>0</td>\n",
       "      <td>0</td>\n",
       "      <td>0</td>\n",
       "      <td>0</td>\n",
       "      <td>0</td>\n",
       "      <td>0</td>\n",
       "      <td>0</td>\n",
       "      <td>0</td>\n",
       "      <td>0</td>\n",
       "      <td>0</td>\n",
       "      <td>0</td>\n",
       "      <td>0</td>\n",
       "    </tr>\n",
       "    <tr>\n",
       "      <th>2</th>\n",
       "      <td>0</td>\n",
       "      <td>0</td>\n",
       "      <td>0</td>\n",
       "      <td>0</td>\n",
       "      <td>0</td>\n",
       "      <td>0</td>\n",
       "      <td>0</td>\n",
       "      <td>0</td>\n",
       "      <td>0</td>\n",
       "      <td>0</td>\n",
       "      <td>0</td>\n",
       "      <td>0</td>\n",
       "      <td>0</td>\n",
       "      <td>0</td>\n",
       "      <td>0</td>\n",
       "    </tr>\n",
       "    <tr>\n",
       "      <th>3</th>\n",
       "      <td>0</td>\n",
       "      <td>0</td>\n",
       "      <td>0</td>\n",
       "      <td>0</td>\n",
       "      <td>0</td>\n",
       "      <td>0</td>\n",
       "      <td>0</td>\n",
       "      <td>0</td>\n",
       "      <td>0</td>\n",
       "      <td>0</td>\n",
       "      <td>0</td>\n",
       "      <td>0</td>\n",
       "      <td>0</td>\n",
       "      <td>0</td>\n",
       "      <td>0</td>\n",
       "    </tr>\n",
       "    <tr>\n",
       "      <th>4</th>\n",
       "      <td>0</td>\n",
       "      <td>0</td>\n",
       "      <td>0</td>\n",
       "      <td>0</td>\n",
       "      <td>0</td>\n",
       "      <td>0</td>\n",
       "      <td>0</td>\n",
       "      <td>0</td>\n",
       "      <td>0</td>\n",
       "      <td>0</td>\n",
       "      <td>0</td>\n",
       "      <td>0</td>\n",
       "      <td>0</td>\n",
       "      <td>0</td>\n",
       "      <td>0</td>\n",
       "    </tr>\n",
       "  </tbody>\n",
       "</table>\n",
       "</div>"
      ],
      "text/plain": [
       "   BASEL_pleasant_weather  BELGRADE_pleasant_weather  \\\n",
       "0                       0                          0   \n",
       "1                       0                          0   \n",
       "2                       0                          0   \n",
       "3                       0                          0   \n",
       "4                       0                          0   \n",
       "\n",
       "   BUDAPEST_pleasant_weather  DEBILT_pleasant_weather  \\\n",
       "0                          0                        0   \n",
       "1                          0                        0   \n",
       "2                          0                        0   \n",
       "3                          0                        0   \n",
       "4                          0                        0   \n",
       "\n",
       "   DUSSELDORF_pleasant_weather  HEATHROW_pleasant_weather  \\\n",
       "0                            0                          0   \n",
       "1                            0                          0   \n",
       "2                            0                          0   \n",
       "3                            0                          0   \n",
       "4                            0                          0   \n",
       "\n",
       "   KASSEL_pleasant_weather  LJUBLJANA_pleasant_weather  \\\n",
       "0                        0                           0   \n",
       "1                        0                           0   \n",
       "2                        0                           0   \n",
       "3                        0                           0   \n",
       "4                        0                           0   \n",
       "\n",
       "   MAASTRICHT_pleasant_weather  MADRID_pleasant_weather  \\\n",
       "0                            0                        0   \n",
       "1                            0                        0   \n",
       "2                            0                        0   \n",
       "3                            0                        0   \n",
       "4                            0                        0   \n",
       "\n",
       "   MUNCHENB_pleasant_weather  OSLO_pleasant_weather  \\\n",
       "0                          0                      0   \n",
       "1                          0                      0   \n",
       "2                          0                      0   \n",
       "3                          0                      0   \n",
       "4                          0                      0   \n",
       "\n",
       "   SONNBLICK_pleasant_weather  STOCKHOLM_pleasant_weather  \\\n",
       "0                           0                           0   \n",
       "1                           0                           0   \n",
       "2                           0                           0   \n",
       "3                           0                           0   \n",
       "4                           0                           0   \n",
       "\n",
       "   VALENTIA_pleasant_weather  \n",
       "0                          0  \n",
       "1                          0  \n",
       "2                          0  \n",
       "3                          0  \n",
       "4                          0  "
      ]
     },
     "execution_count": 8,
     "metadata": {},
     "output_type": "execute_result"
    }
   ],
   "source": [
    "df_pleasant.drop(columns=['Unnamed: 0'],inplace=True)\n",
    "df_pleasant.head()"
   ]
  },
  {
   "cell_type": "markdown",
   "id": "b6e28921-b79f-458f-8bc9-08f0999af2fa",
   "metadata": {},
   "source": [
    "### 02. Splitting Data"
   ]
  },
  {
   "cell_type": "code",
   "execution_count": 10,
   "id": "5049b3fb-4bda-43e6-bf45-0bd2a927ac8b",
   "metadata": {},
   "outputs": [],
   "source": [
    "# Creating matrix\n",
    "X = df_weather\n",
    "y = df_pleasant"
   ]
  },
  {
   "cell_type": "code",
   "execution_count": 11,
   "id": "1f6b7a5b-650f-4a08-b8af-2e633a3789d6",
   "metadata": {},
   "outputs": [],
   "source": [
    "X = np.array(X)\n",
    "y = np.array(y)"
   ]
  },
  {
   "cell_type": "code",
   "execution_count": 12,
   "id": "327521c7-f779-42e1-b46c-d3a7f9f30f54",
   "metadata": {},
   "outputs": [],
   "source": [
    "X = X.reshape(-1,15,9)"
   ]
  },
  {
   "cell_type": "code",
   "execution_count": 13,
   "id": "f5f018ba-25e7-4a3d-8d02-0ee77da238b4",
   "metadata": {},
   "outputs": [],
   "source": [
    "# Splitting data into training and test sets\n",
    "X_train, X_test, y_train, y_test = train_test_split(X,y,test_size=0.2)"
   ]
  },
  {
   "cell_type": "code",
   "execution_count": 14,
   "id": "f24d2990-8d35-46ee-af86-8dc3109c8eff",
   "metadata": {},
   "outputs": [
    {
     "name": "stdout",
     "output_type": "stream",
     "text": [
      "(18360, 15, 9) (18360, 15)\n",
      "(4590, 15, 9) (4590, 15)\n"
     ]
    }
   ],
   "source": [
    "print(X_train.shape, y_train.shape)\n",
    "print(X_test.shape, y_test.shape)"
   ]
  },
  {
   "cell_type": "markdown",
   "id": "7d5eca63-acf9-4eb9-a6f2-92cb5e591cdc",
   "metadata": {},
   "source": [
    "### 03. Convolution Neural Network (CNN)"
   ]
  },
  {
   "cell_type": "code",
   "execution_count": 16,
   "id": "ad189902-b61f-41fe-8716-0b0805e60b88",
   "metadata": {},
   "outputs": [],
   "source": [
    "# Creating stations dictionary\n",
    "stations = {\n",
    "    0: 'BASEL',\n",
    "    1: 'BELGRADE',\n",
    "    2: 'BUDAPEST',\n",
    "    3: 'DEBILT',\n",
    "    4: 'DUSSELDORF',\n",
    "    5: 'HEATHROW',\n",
    "    6: 'KASSEL',\n",
    "    7: 'LJUBJANA',\n",
    "    8: 'MAASTRICHT',\n",
    "    9: 'MADRID',\n",
    "    10: 'MUNCHENB',\n",
    "    11: 'OSLO',\n",
    "    12: 'SONNBLICK',\n",
    "    13: 'STOCKHOLM',\n",
    "    14: 'VALENTIA'\n",
    "}"
   ]
  },
  {
   "cell_type": "code",
   "execution_count": 17,
   "id": "fd05dbf4-d88c-4ff3-9509-7bc7d8a8b2c1",
   "metadata": {},
   "outputs": [
    {
     "name": "stderr",
     "output_type": "stream",
     "text": [
      "/home/cwidner/anaconda3/lib/python3.12/site-packages/keras/src/layers/convolutional/base_conv.py:107: UserWarning: Do not pass an `input_shape`/`input_dim` argument to a layer. When using Sequential models, prefer using an `Input(shape)` object as the first layer in the model instead.\n",
      "  super().__init__(activity_regularizer=activity_regularizer, **kwargs)\n"
     ]
    }
   ],
   "source": [
    "# Creating Keras layered model. Hyperparameters: 8, 16, 32, softmax\n",
    "epochs = 8\n",
    "batch_size = 16\n",
    "n_hidden = 32\n",
    "\n",
    "timesteps = len(X_train[0])\n",
    "input_dim = len(X_train[0][0])\n",
    "n_classes = len(y_train[0])\n",
    "\n",
    "model = Sequential()\n",
    "model.add(Conv1D(n_hidden, kernel_size=2, activation='relu', input_shape=(timesteps, input_dim)))\n",
    "model.add(Dense(16, activation='relu'))\n",
    "model.add(MaxPooling1D())\n",
    "model.add(Flatten())\n",
    "model.add(Dense(n_classes, activation='softmax'))"
   ]
  },
  {
   "cell_type": "code",
   "execution_count": 18,
   "id": "b7fbe73e-fd96-4f1f-aa96-38c326e8f0d3",
   "metadata": {},
   "outputs": [],
   "source": [
    "model.compile(loss='categorical_crossentropy', optimizer='adam', metrics=['accuracy'])"
   ]
  },
  {
   "cell_type": "code",
   "execution_count": 19,
   "id": "874d2329-cca4-4e40-99d7-c03660eb4658",
   "metadata": {},
   "outputs": [
    {
     "name": "stdout",
     "output_type": "stream",
     "text": [
      "Epoch 1/8\n",
      "1148/1148 - 2s - 1ms/step - accuracy: 0.1060 - loss: 6627.7163\n",
      "Epoch 2/8\n",
      "1148/1148 - 1s - 948us/step - accuracy: 0.1188 - loss: 73258.0859\n",
      "Epoch 3/8\n",
      "1148/1148 - 1s - 1ms/step - accuracy: 0.1265 - loss: 244507.5000\n",
      "Epoch 4/8\n",
      "1148/1148 - 1s - 980us/step - accuracy: 0.1301 - loss: 534272.0625\n",
      "Epoch 5/8\n",
      "1148/1148 - 1s - 945us/step - accuracy: 0.1277 - loss: 927626.9375\n",
      "Epoch 6/8\n",
      "1148/1148 - 2s - 1ms/step - accuracy: 0.1288 - loss: 1470366.8750\n",
      "Epoch 7/8\n",
      "1148/1148 - 2s - 1ms/step - accuracy: 0.1304 - loss: 2137612.2500\n",
      "Epoch 8/8\n",
      "1148/1148 - 2s - 1ms/step - accuracy: 0.1340 - loss: 2973488.5000\n"
     ]
    },
    {
     "data": {
      "text/plain": [
       "<keras.src.callbacks.history.History at 0x7495913f9220>"
      ]
     },
     "execution_count": 19,
     "metadata": {},
     "output_type": "execute_result"
    }
   ],
   "source": [
    "model.fit(X_train, y_train, batch_size=batch_size, epochs=epochs, verbose=2)"
   ]
  },
  {
   "cell_type": "code",
   "execution_count": 20,
   "id": "3cafaa59-c938-4124-8bf1-1bcd1e275b98",
   "metadata": {},
   "outputs": [],
   "source": [
    "# Creating confustion matrix\n",
    "def confusion_matrix(y_true, y_pred):\n",
    "    y_true = pd.Series([stations[y] for y in np.argmax(y_true, axis=1)])\n",
    "    y_pred = pd.Series([stations[y] for y in np.argmax(y_pred, axis=1)])\n",
    "    return pd.crosstab(y_true, y_pred, rownames=['True'], colnames=['Pred'])"
   ]
  },
  {
   "cell_type": "code",
   "execution_count": 21,
   "id": "91f6dad2-3ef9-4aa2-b378-e3c162c06cb3",
   "metadata": {},
   "outputs": [
    {
     "name": "stdout",
     "output_type": "stream",
     "text": [
      "\u001b[1m144/144\u001b[0m \u001b[32m━━━━━━━━━━━━━━━━━━━━\u001b[0m\u001b[37m\u001b[0m \u001b[1m0s\u001b[0m 1ms/step\n",
      "Pred        BASEL  BELGRADE  BUDAPEST  DEBILT  DUSSELDORF  HEATHROW  LJUBJANA  \\\n",
      "True                                                                            \n",
      "BASEL          81        70       147      23         223       423        46   \n",
      "BELGRADE       11        40        56       1          28        10         1   \n",
      "BUDAPEST        1         2         5       0           3         0         0   \n",
      "DEBILT          1         0         0       0           0         4         0   \n",
      "DUSSELDORF      0         0         0       0           0         2         0   \n",
      "HEATHROW        0         0         2       1           0         4         0   \n",
      "KASSEL          1         0         0       0           1         1         0   \n",
      "LJUBJANA        0         0         2       0           1         0         0   \n",
      "MAASTRICHT      0         0         0       0           0         0         0   \n",
      "MADRID          4         0         2       0           3        12         1   \n",
      "MUNCHENB        0         1         2       0           0         0         0   \n",
      "OSLO            0         0         0       0           0         0         0   \n",
      "STOCKHOLM       0         0         2       0           0         0         0   \n",
      "\n",
      "Pred        MADRID  MUNCHENB  OSLO  SONNBLICK  STOCKHOLM  VALENTIA  \n",
      "True                                                                \n",
      "BASEL         1177       169   581          2          3        23  \n",
      "BELGRADE       563        21   147          0          0         0  \n",
      "BUDAPEST       106         5    49          0          0         0  \n",
      "DEBILT          18         2    34          0          0         0  \n",
      "DUSSELDORF      12         1    10          0          0         0  \n",
      "HEATHROW        47         0    32          0          0         0  \n",
      "KASSEL           2         1     3          0          0         0  \n",
      "LJUBJANA        28         1     1          0          0         0  \n",
      "MAASTRICHT       0         1     0          0          0         0  \n",
      "MADRID         289         3    34          0          0         0  \n",
      "MUNCHENB         3         0     0          0          0         0  \n",
      "OSLO             3         0     1          0          0         0  \n",
      "STOCKHOLM        0         0     0          0          0         0  \n"
     ]
    }
   ],
   "source": [
    "print(confusion_matrix(y_test, model.predict(X_test)))"
   ]
  },
  {
   "cell_type": "code",
   "execution_count": 22,
   "id": "723ea2f2-a9ee-4e56-9a43-f1048f6de286",
   "metadata": {},
   "outputs": [
    {
     "name": "stderr",
     "output_type": "stream",
     "text": [
      "/home/cwidner/anaconda3/lib/python3.12/site-packages/keras/src/layers/convolutional/base_conv.py:107: UserWarning: Do not pass an `input_shape`/`input_dim` argument to a layer. When using Sequential models, prefer using an `Input(shape)` object as the first layer in the model instead.\n",
      "  super().__init__(activity_regularizer=activity_regularizer, **kwargs)\n"
     ]
    }
   ],
   "source": [
    "# Creating Keras layered model. Hyperparameters: 16, 32, 64, softmax\n",
    "epochs = 16\n",
    "batch_size = 32\n",
    "n_hidden = 64\n",
    "\n",
    "timesteps = len(X_train[0])\n",
    "input_dim = len(X_train[0][0])\n",
    "n_classes = len(y_train[0])\n",
    "\n",
    "model = Sequential()\n",
    "model.add(Conv1D(n_hidden, kernel_size=2, activation='relu', input_shape=(timesteps, input_dim)))\n",
    "model.add(Dense(16, activation='relu'))\n",
    "model.add(MaxPooling1D())\n",
    "model.add(Flatten())\n",
    "model.add(Dense(n_classes, activation='softmax'))"
   ]
  },
  {
   "cell_type": "code",
   "execution_count": 23,
   "id": "0a7d5c4b-453a-4f07-ac55-6d58e95b6ff2",
   "metadata": {},
   "outputs": [],
   "source": [
    "model.compile(loss='categorical_crossentropy', optimizer='adam', metrics=['accuracy'])"
   ]
  },
  {
   "cell_type": "code",
   "execution_count": 24,
   "id": "f6d5a9de-1b33-4099-81e2-e8dc871f30dc",
   "metadata": {},
   "outputs": [
    {
     "name": "stdout",
     "output_type": "stream",
     "text": [
      "Epoch 1/16\n",
      "574/574 - 1s - 3ms/step - accuracy: 0.1297 - loss: 1829.9489\n",
      "Epoch 2/16\n",
      "574/574 - 1s - 2ms/step - accuracy: 0.1212 - loss: 19104.8223\n",
      "Epoch 3/16\n",
      "574/574 - 1s - 2ms/step - accuracy: 0.1241 - loss: 63116.1875\n",
      "Epoch 4/16\n",
      "574/574 - 1s - 2ms/step - accuracy: 0.1255 - loss: 139030.7656\n",
      "Epoch 5/16\n",
      "574/574 - 1s - 2ms/step - accuracy: 0.1212 - loss: 245488.3281\n",
      "Epoch 6/16\n",
      "574/574 - 1s - 2ms/step - accuracy: 0.1224 - loss: 391809.9688\n",
      "Epoch 7/16\n",
      "574/574 - 1s - 2ms/step - accuracy: 0.1224 - loss: 588737.5625\n",
      "Epoch 8/16\n",
      "574/574 - 1s - 2ms/step - accuracy: 0.1222 - loss: 822184.5625\n",
      "Epoch 9/16\n",
      "574/574 - 1s - 2ms/step - accuracy: 0.1190 - loss: 1113126.2500\n",
      "Epoch 10/16\n",
      "574/574 - 1s - 2ms/step - accuracy: 0.1219 - loss: 1439334.6250\n",
      "Epoch 11/16\n",
      "574/574 - 1s - 2ms/step - accuracy: 0.1231 - loss: 1842093.7500\n",
      "Epoch 12/16\n",
      "574/574 - 1s - 2ms/step - accuracy: 0.1216 - loss: 2242607.7500\n",
      "Epoch 13/16\n",
      "574/574 - 1s - 2ms/step - accuracy: 0.1217 - loss: 2742766.5000\n",
      "Epoch 14/16\n",
      "574/574 - 1s - 2ms/step - accuracy: 0.1252 - loss: 3308515.0000\n",
      "Epoch 15/16\n",
      "574/574 - 1s - 2ms/step - accuracy: 0.1237 - loss: 3855214.0000\n",
      "Epoch 16/16\n",
      "574/574 - 1s - 2ms/step - accuracy: 0.1273 - loss: 4565676.0000\n"
     ]
    },
    {
     "data": {
      "text/plain": [
       "<keras.src.callbacks.history.History at 0x74958ffbdbb0>"
      ]
     },
     "execution_count": 24,
     "metadata": {},
     "output_type": "execute_result"
    }
   ],
   "source": [
    "model.fit(X_train, y_train, batch_size=batch_size, epochs=epochs, verbose=2)"
   ]
  },
  {
   "cell_type": "code",
   "execution_count": 25,
   "id": "adad5433-80b4-4fe5-9565-1e54454f8a17",
   "metadata": {},
   "outputs": [
    {
     "name": "stdout",
     "output_type": "stream",
     "text": [
      "\u001b[1m144/144\u001b[0m \u001b[32m━━━━━━━━━━━━━━━━━━━━\u001b[0m\u001b[37m\u001b[0m \u001b[1m0s\u001b[0m 1ms/step\n",
      "Pred        BASEL  BELGRADE  BUDAPEST  DEBILT  DUSSELDORF  HEATHROW  KASSEL  \\\n",
      "True                                                                          \n",
      "BASEL         191        84       128      42         109       390     283   \n",
      "BELGRADE       23        36        63       3          14        97      37   \n",
      "BUDAPEST        2         5         8       0           3        32       9   \n",
      "DEBILT          0         0         0       0           1        14      12   \n",
      "DUSSELDORF      0         0         0       0           0         5       4   \n",
      "HEATHROW        3         0         4       0           1        20       5   \n",
      "KASSEL          0         0         0       0           1         2       3   \n",
      "LJUBJANA        0         1         1       0           1         2       1   \n",
      "MAASTRICHT      0         0         0       0           0         0       0   \n",
      "MADRID         14         3        17       0           0        64       5   \n",
      "MUNCHENB        2         0         1       0           0         0       0   \n",
      "OSLO            0         1         0       0           0         0       0   \n",
      "STOCKHOLM       0         1         1       0           0         0       0   \n",
      "\n",
      "Pred        LJUBJANA  MAASTRICHT  MADRID  MUNCHENB  OSLO  SONNBLICK  \\\n",
      "True                                                                  \n",
      "BASEL            371         235     743        77    83          7   \n",
      "BELGRADE         133          53     351        13     2          0   \n",
      "BUDAPEST          19          11      59         1     6          0   \n",
      "DEBILT             6           6       9         1     1          0   \n",
      "DUSSELDORF         4           2       4         1     2          0   \n",
      "HEATHROW          16           2      20         0     9          0   \n",
      "KASSEL             3           0       0         0     0          0   \n",
      "LJUBJANA          15           0      12         0     0          0   \n",
      "MAASTRICHT         1           0       0         0     0          0   \n",
      "MADRID            43           4     152         2    16          0   \n",
      "MUNCHENB           0           0       3         0     0          0   \n",
      "OSLO               0           0       3         0     0          0   \n",
      "STOCKHOLM          0           0       0         0     0          0   \n",
      "\n",
      "Pred        STOCKHOLM  VALENTIA  \n",
      "True                             \n",
      "BASEL             189        36  \n",
      "BELGRADE           53         0  \n",
      "BUDAPEST           16         0  \n",
      "DEBILT              9         0  \n",
      "DUSSELDORF          3         0  \n",
      "HEATHROW            6         0  \n",
      "KASSEL              0         0  \n",
      "LJUBJANA            0         0  \n",
      "MAASTRICHT          0         0  \n",
      "MADRID             28         0  \n",
      "MUNCHENB            0         0  \n",
      "OSLO                0         0  \n",
      "STOCKHOLM           0         0  \n"
     ]
    }
   ],
   "source": [
    "print(confusion_matrix(y_test, model.predict(X_test)))"
   ]
  },
  {
   "cell_type": "code",
   "execution_count": 26,
   "id": "c0731fd4-bfef-42d0-af76-589a6ce3238a",
   "metadata": {},
   "outputs": [
    {
     "name": "stderr",
     "output_type": "stream",
     "text": [
      "/home/cwidner/anaconda3/lib/python3.12/site-packages/keras/src/layers/convolutional/base_conv.py:107: UserWarning: Do not pass an `input_shape`/`input_dim` argument to a layer. When using Sequential models, prefer using an `Input(shape)` object as the first layer in the model instead.\n",
      "  super().__init__(activity_regularizer=activity_regularizer, **kwargs)\n"
     ]
    }
   ],
   "source": [
    "# Creating Keras layered model. Hyperparameters: 8, 16, 32, sigmoid\n",
    "epochs = 8\n",
    "batch_size = 16\n",
    "n_hidden = 32\n",
    "\n",
    "timesteps = len(X_train[0])\n",
    "input_dim = len(X_train[0][0])\n",
    "n_classes = len(y_train[0])\n",
    "\n",
    "model = Sequential()\n",
    "model.add(Conv1D(n_hidden, kernel_size=2, activation='relu', input_shape=(timesteps, input_dim)))\n",
    "model.add(Dense(16, activation='relu'))\n",
    "model.add(MaxPooling1D())\n",
    "model.add(Flatten())\n",
    "model.add(Dense(n_classes, activation='sigmoid'))"
   ]
  },
  {
   "cell_type": "code",
   "execution_count": 27,
   "id": "f85283fd-0642-4706-bbc9-8e22a87184a2",
   "metadata": {},
   "outputs": [],
   "source": [
    "model.compile(loss='categorical_crossentropy', optimizer='adam', metrics=['accuracy'])"
   ]
  },
  {
   "cell_type": "code",
   "execution_count": 28,
   "id": "974709df-06a2-4c46-b4f3-01c828d21571",
   "metadata": {
    "scrolled": true
   },
   "outputs": [
    {
     "name": "stdout",
     "output_type": "stream",
     "text": [
      "Epoch 1/8\n",
      "1148/1148 - 2s - 2ms/step - accuracy: 0.0979 - loss: 5679.9453\n",
      "Epoch 2/8\n",
      "1148/1148 - 2s - 1ms/step - accuracy: 0.1277 - loss: 59616.5938\n",
      "Epoch 3/8\n",
      "1148/1148 - 2s - 1ms/step - accuracy: 0.1370 - loss: 202179.4375\n",
      "Epoch 4/8\n",
      "1148/1148 - 2s - 1ms/step - accuracy: 0.1362 - loss: 434761.6875\n",
      "Epoch 5/8\n",
      "1148/1148 - 2s - 1ms/step - accuracy: 0.1340 - loss: 770538.1250\n",
      "Epoch 6/8\n",
      "1148/1148 - 2s - 1ms/step - accuracy: 0.1340 - loss: 1224601.0000\n",
      "Epoch 7/8\n",
      "1148/1148 - 2s - 1ms/step - accuracy: 0.1324 - loss: 1830085.3750\n",
      "Epoch 8/8\n",
      "1148/1148 - 2s - 1ms/step - accuracy: 0.1290 - loss: 2516804.5000\n"
     ]
    },
    {
     "data": {
      "text/plain": [
       "<keras.src.callbacks.history.History at 0x74958c12bc80>"
      ]
     },
     "execution_count": 28,
     "metadata": {},
     "output_type": "execute_result"
    }
   ],
   "source": [
    "model.fit(X_train, y_train, batch_size=batch_size, epochs=epochs, verbose=2)"
   ]
  },
  {
   "cell_type": "code",
   "execution_count": 29,
   "id": "af0f9198-d5db-4314-88f0-d9b29e91cbcd",
   "metadata": {},
   "outputs": [
    {
     "name": "stdout",
     "output_type": "stream",
     "text": [
      "\u001b[1m144/144\u001b[0m \u001b[32m━━━━━━━━━━━━━━━━━━━━\u001b[0m\u001b[37m\u001b[0m \u001b[1m0s\u001b[0m 1ms/step\n",
      "Pred        BASEL  VALENTIA\n",
      "True                       \n",
      "BASEL        2967         1\n",
      "BELGRADE      878         0\n",
      "BUDAPEST      171         0\n",
      "DEBILT         59         0\n",
      "DUSSELDORF     25         0\n",
      "HEATHROW       86         0\n",
      "KASSEL          9         0\n",
      "LJUBJANA       33         0\n",
      "MAASTRICHT      1         0\n",
      "MADRID        348         0\n",
      "MUNCHENB        6         0\n",
      "OSLO            4         0\n",
      "STOCKHOLM       2         0\n"
     ]
    }
   ],
   "source": [
    "print(confusion_matrix(y_test, model.predict(X_test)))"
   ]
  },
  {
   "cell_type": "code",
   "execution_count": 30,
   "id": "7a581a4e-fa33-47e3-a731-aea5fda0f6f5",
   "metadata": {},
   "outputs": [
    {
     "name": "stderr",
     "output_type": "stream",
     "text": [
      "/home/cwidner/anaconda3/lib/python3.12/site-packages/keras/src/layers/convolutional/base_conv.py:107: UserWarning: Do not pass an `input_shape`/`input_dim` argument to a layer. When using Sequential models, prefer using an `Input(shape)` object as the first layer in the model instead.\n",
      "  super().__init__(activity_regularizer=activity_regularizer, **kwargs)\n"
     ]
    }
   ],
   "source": [
    "# Creating Keras layered model. Hyperparameters: 16, 32, 64, sigmoid\n",
    "epochs = 16\n",
    "batch_size = 32\n",
    "n_hidden = 64\n",
    "\n",
    "timesteps = len(X_train[0])\n",
    "input_dim = len(X_train[0][0])\n",
    "n_classes = len(y_train[0])\n",
    "\n",
    "model = Sequential()\n",
    "model.add(Conv1D(n_hidden, kernel_size=2, activation='relu', input_shape=(timesteps, input_dim)))\n",
    "model.add(Dense(16, activation='relu'))\n",
    "model.add(MaxPooling1D())\n",
    "model.add(Flatten())\n",
    "model.add(Dense(n_classes, activation='sigmoid'))"
   ]
  },
  {
   "cell_type": "code",
   "execution_count": 31,
   "id": "5e37be0c-0fca-486d-a12c-f0085d20c754",
   "metadata": {},
   "outputs": [],
   "source": [
    "model.compile(loss='categorical_crossentropy', optimizer='adam', metrics=['accuracy'])"
   ]
  },
  {
   "cell_type": "code",
   "execution_count": 32,
   "id": "1c187559-2abf-4011-b81e-e10ff6609730",
   "metadata": {},
   "outputs": [
    {
     "name": "stdout",
     "output_type": "stream",
     "text": [
      "Epoch 1/16\n",
      "574/574 - 1s - 3ms/step - accuracy: 0.1068 - loss: 1536.6542\n",
      "Epoch 2/16\n",
      "574/574 - 1s - 2ms/step - accuracy: 0.1179 - loss: 16575.6973\n",
      "Epoch 3/16\n",
      "574/574 - 1s - 2ms/step - accuracy: 0.1194 - loss: 59787.4180\n",
      "Epoch 4/16\n",
      "574/574 - 1s - 2ms/step - accuracy: 0.1249 - loss: 130238.2812\n",
      "Epoch 5/16\n",
      "574/574 - 1s - 2ms/step - accuracy: 0.1258 - loss: 240630.3750\n",
      "Epoch 6/16\n",
      "574/574 - 1s - 2ms/step - accuracy: 0.1260 - loss: 382974.2188\n",
      "Epoch 7/16\n",
      "574/574 - 1s - 2ms/step - accuracy: 0.1246 - loss: 570030.8750\n",
      "Epoch 8/16\n",
      "574/574 - 1s - 2ms/step - accuracy: 0.1228 - loss: 791340.8750\n",
      "Epoch 9/16\n",
      "574/574 - 1s - 2ms/step - accuracy: 0.1237 - loss: 1052469.6250\n",
      "Epoch 10/16\n",
      "574/574 - 1s - 2ms/step - accuracy: 0.1266 - loss: 1350629.8750\n",
      "Epoch 11/16\n",
      "574/574 - 1s - 2ms/step - accuracy: 0.1277 - loss: 1726645.5000\n",
      "Epoch 12/16\n",
      "574/574 - 1s - 2ms/step - accuracy: 0.1256 - loss: 2144219.7500\n",
      "Epoch 13/16\n",
      "574/574 - 1s - 2ms/step - accuracy: 0.1247 - loss: 2579440.5000\n",
      "Epoch 14/16\n",
      "574/574 - 1s - 2ms/step - accuracy: 0.1274 - loss: 3130481.0000\n",
      "Epoch 15/16\n",
      "574/574 - 1s - 2ms/step - accuracy: 0.1257 - loss: 3694301.2500\n",
      "Epoch 16/16\n",
      "574/574 - 1s - 2ms/step - accuracy: 0.1285 - loss: 4292469.0000\n"
     ]
    },
    {
     "data": {
      "text/plain": [
       "<keras.src.callbacks.history.History at 0x749584d464b0>"
      ]
     },
     "execution_count": 32,
     "metadata": {},
     "output_type": "execute_result"
    }
   ],
   "source": [
    "model.fit(X_train, y_train, batch_size=batch_size, epochs=epochs, verbose=2)"
   ]
  },
  {
   "cell_type": "code",
   "execution_count": 33,
   "id": "ab4bdf81-c195-4ef3-8ba8-14a4248e84fc",
   "metadata": {
    "scrolled": true
   },
   "outputs": [
    {
     "name": "stdout",
     "output_type": "stream",
     "text": [
      "\u001b[1m144/144\u001b[0m \u001b[32m━━━━━━━━━━━━━━━━━━━━\u001b[0m\u001b[37m\u001b[0m \u001b[1m0s\u001b[0m 1ms/step\n",
      "Pred        BASEL\n",
      "True             \n",
      "BASEL        2968\n",
      "BELGRADE      878\n",
      "BUDAPEST      171\n",
      "DEBILT         59\n",
      "DUSSELDORF     25\n",
      "HEATHROW       86\n",
      "KASSEL          9\n",
      "LJUBJANA       33\n",
      "MAASTRICHT      1\n",
      "MADRID        348\n",
      "MUNCHENB        6\n",
      "OSLO            4\n",
      "STOCKHOLM       2\n"
     ]
    }
   ],
   "source": [
    "print(confusion_matrix(y_test, model.predict(X_test)))"
   ]
  },
  {
   "cell_type": "code",
   "execution_count": 34,
   "id": "f3b8a87a-4ab7-4d9d-9cce-c68c8d343928",
   "metadata": {},
   "outputs": [
    {
     "name": "stderr",
     "output_type": "stream",
     "text": [
      "/home/cwidner/anaconda3/lib/python3.12/site-packages/keras/src/layers/convolutional/base_conv.py:107: UserWarning: Do not pass an `input_shape`/`input_dim` argument to a layer. When using Sequential models, prefer using an `Input(shape)` object as the first layer in the model instead.\n",
      "  super().__init__(activity_regularizer=activity_regularizer, **kwargs)\n"
     ]
    }
   ],
   "source": [
    "# Creating Keras layered model. Hyperparameters: 8, 16, 32, tanh\n",
    "epochs = 8\n",
    "batch_size = 16\n",
    "n_hidden = 32\n",
    "\n",
    "timesteps = len(X_train[0])\n",
    "input_dim = len(X_train[0][0])\n",
    "n_classes = len(y_train[0])\n",
    "\n",
    "model = Sequential()\n",
    "model.add(Conv1D(n_hidden, kernel_size=2, activation='relu', input_shape=(timesteps, input_dim)))\n",
    "model.add(Dense(16, activation='relu'))\n",
    "model.add(MaxPooling1D())\n",
    "model.add(Flatten())\n",
    "model.add(Dense(n_classes, activation='tanh'))"
   ]
  },
  {
   "cell_type": "code",
   "execution_count": 35,
   "id": "d0c6de52-a833-4b7f-b340-413b7b3554d7",
   "metadata": {},
   "outputs": [],
   "source": [
    "model.compile(loss='categorical_crossentropy', optimizer='adam', metrics=['accuracy'])"
   ]
  },
  {
   "cell_type": "code",
   "execution_count": 36,
   "id": "752c28e1-c7b6-40d2-ba15-83cfc3881f97",
   "metadata": {},
   "outputs": [
    {
     "name": "stdout",
     "output_type": "stream",
     "text": [
      "Epoch 1/8\n",
      "1148/1148 - 2s - 2ms/step - accuracy: 0.4333 - loss: 24.8489\n",
      "Epoch 2/8\n",
      "1148/1148 - 2s - 1ms/step - accuracy: 0.4903 - loss: 25.8260\n",
      "Epoch 3/8\n",
      "1148/1148 - 2s - 1ms/step - accuracy: 0.4240 - loss: 25.8320\n",
      "Epoch 4/8\n",
      "1148/1148 - 2s - 1ms/step - accuracy: 0.4493 - loss: 25.8337\n",
      "Epoch 5/8\n",
      "1148/1148 - 2s - 1ms/step - accuracy: 0.6421 - loss: 25.8355\n",
      "Epoch 6/8\n",
      "1148/1148 - 2s - 2ms/step - accuracy: 0.6419 - loss: 25.8346\n",
      "Epoch 7/8\n",
      "1148/1148 - 2s - 2ms/step - accuracy: 0.6419 - loss: 25.8346\n",
      "Epoch 8/8\n",
      "1148/1148 - 1s - 1ms/step - accuracy: 0.6418 - loss: 25.8320\n"
     ]
    },
    {
     "data": {
      "text/plain": [
       "<keras.src.callbacks.history.History at 0x749584d81670>"
      ]
     },
     "execution_count": 36,
     "metadata": {},
     "output_type": "execute_result"
    }
   ],
   "source": [
    "model.fit(X_train, y_train, batch_size=batch_size, epochs=epochs, verbose=2)"
   ]
  },
  {
   "cell_type": "code",
   "execution_count": 37,
   "id": "4943b114-09eb-4650-b8db-4cefb8c9fb77",
   "metadata": {},
   "outputs": [
    {
     "name": "stdout",
     "output_type": "stream",
     "text": [
      "\u001b[1m144/144\u001b[0m \u001b[32m━━━━━━━━━━━━━━━━━━━━\u001b[0m\u001b[37m\u001b[0m \u001b[1m0s\u001b[0m 2ms/step\n",
      "Pred        BASEL  MADRID\n",
      "True                     \n",
      "BASEL        2966       2\n",
      "BELGRADE      877       1\n",
      "BUDAPEST      171       0\n",
      "DEBILT         59       0\n",
      "DUSSELDORF     25       0\n",
      "HEATHROW       86       0\n",
      "KASSEL          9       0\n",
      "LJUBJANA       33       0\n",
      "MAASTRICHT      1       0\n",
      "MADRID        348       0\n",
      "MUNCHENB        6       0\n",
      "OSLO            4       0\n",
      "STOCKHOLM       2       0\n"
     ]
    }
   ],
   "source": [
    "print(confusion_matrix(y_test, model.predict(X_test)))"
   ]
  },
  {
   "cell_type": "markdown",
   "id": "454f2d2c-47ff-431e-9bb5-522d528372d2",
   "metadata": {},
   "source": [
    "### 04. Recurrent Neural Network (RNN)"
   ]
  },
  {
   "cell_type": "code",
   "execution_count": 39,
   "id": "22e6c53f-8042-465b-bd17-b51bbdc8c9e4",
   "metadata": {},
   "outputs": [
    {
     "name": "stderr",
     "output_type": "stream",
     "text": [
      "/home/cwidner/anaconda3/lib/python3.12/site-packages/keras/src/layers/rnn/rnn.py:204: UserWarning: Do not pass an `input_shape`/`input_dim` argument to a layer. When using Sequential models, prefer using an `Input(shape)` object as the first layer in the model instead.\n",
      "  super().__init__(**kwargs)\n"
     ]
    }
   ],
   "source": [
    "# Create a Keras leyered model. Use initial hyperparameters: 8, 16, 32, softmax\n",
    "epochs = 8\n",
    "batch_size = 16\n",
    "n_hidden = 32\n",
    "\n",
    "timesteps = len(X_train[0])\n",
    "input_dim = len(X_train[0][0])\n",
    "n_classes = len(y_train[0])\n",
    "\n",
    "model = Sequential()\n",
    "model.add(LSTM(n_hidden, input_shape=(timesteps, input_dim)))\n",
    "model.add(Dropout(0.5))\n",
    "model.add(Dense(n_classes, activation='softmax')) #Don't use relu here!"
   ]
  },
  {
   "cell_type": "code",
   "execution_count": 40,
   "id": "8adb1e38-c152-4f0f-92c8-fcb4167bdddc",
   "metadata": {},
   "outputs": [],
   "source": [
    "model.compile(loss='categorical_crossentropy', optimizer='rmsprop', metrics=['accuracy'])"
   ]
  },
  {
   "cell_type": "code",
   "execution_count": 41,
   "id": "206c5a0d-f187-4b17-bb8e-f06c0388a132",
   "metadata": {},
   "outputs": [
    {
     "name": "stdout",
     "output_type": "stream",
     "text": [
      "Epoch 1/8\n",
      "\u001b[1m1148/1148\u001b[0m \u001b[32m━━━━━━━━━━━━━━━━━━━━\u001b[0m\u001b[37m\u001b[0m \u001b[1m4s\u001b[0m 3ms/step - accuracy: 0.0880 - loss: 10.4547 - val_accuracy: 0.0453 - val_loss: 9.5895\n",
      "Epoch 2/8\n",
      "\u001b[1m1148/1148\u001b[0m \u001b[32m━━━━━━━━━━━━━━━━━━━━\u001b[0m\u001b[37m\u001b[0m \u001b[1m3s\u001b[0m 3ms/step - accuracy: 0.0738 - loss: 11.1622 - val_accuracy: 0.0458 - val_loss: 10.3247\n",
      "Epoch 3/8\n",
      "\u001b[1m1148/1148\u001b[0m \u001b[32m━━━━━━━━━━━━━━━━━━━━\u001b[0m\u001b[37m\u001b[0m \u001b[1m3s\u001b[0m 3ms/step - accuracy: 0.0837 - loss: 11.7027 - val_accuracy: 0.0473 - val_loss: 10.9803\n",
      "Epoch 4/8\n",
      "\u001b[1m1148/1148\u001b[0m \u001b[32m━━━━━━━━━━━━━━━━━━━━\u001b[0m\u001b[37m\u001b[0m \u001b[1m3s\u001b[0m 3ms/step - accuracy: 0.0805 - loss: 12.2080 - val_accuracy: 0.0497 - val_loss: 11.6071\n",
      "Epoch 5/8\n",
      "\u001b[1m1148/1148\u001b[0m \u001b[32m━━━━━━━━━━━━━━━━━━━━\u001b[0m\u001b[37m\u001b[0m \u001b[1m3s\u001b[0m 3ms/step - accuracy: 0.0767 - loss: 12.7812 - val_accuracy: 0.0327 - val_loss: 12.0164\n",
      "Epoch 6/8\n",
      "\u001b[1m1148/1148\u001b[0m \u001b[32m━━━━━━━━━━━━━━━━━━━━\u001b[0m\u001b[37m\u001b[0m \u001b[1m3s\u001b[0m 3ms/step - accuracy: 0.0789 - loss: 12.8331 - val_accuracy: 0.0431 - val_loss: 12.6164\n",
      "Epoch 7/8\n",
      "\u001b[1m1148/1148\u001b[0m \u001b[32m━━━━━━━━━━━━━━━━━━━━\u001b[0m\u001b[37m\u001b[0m \u001b[1m3s\u001b[0m 3ms/step - accuracy: 0.0773 - loss: 13.2183 - val_accuracy: 0.0312 - val_loss: 13.1400\n",
      "Epoch 8/8\n",
      "\u001b[1m1148/1148\u001b[0m \u001b[32m━━━━━━━━━━━━━━━━━━━━\u001b[0m\u001b[37m\u001b[0m \u001b[1m3s\u001b[0m 3ms/step - accuracy: 0.0782 - loss: 13.6607 - val_accuracy: 0.0375 - val_loss: 13.6222\n"
     ]
    },
    {
     "data": {
      "text/plain": [
       "<keras.src.callbacks.history.History at 0x7495840ed3a0>"
      ]
     },
     "execution_count": 41,
     "metadata": {},
     "output_type": "execute_result"
    }
   ],
   "source": [
    "model.fit(X_train, y_train, batch_size=batch_size, validation_data=(X_test,y_test),epochs=epochs)"
   ]
  },
  {
   "cell_type": "code",
   "execution_count": 42,
   "id": "3bcbc625-1b2f-4309-99a0-ede3872f2c75",
   "metadata": {},
   "outputs": [
    {
     "name": "stdout",
     "output_type": "stream",
     "text": [
      "\u001b[1m144/144\u001b[0m \u001b[32m━━━━━━━━━━━━━━━━━━━━\u001b[0m\u001b[37m\u001b[0m \u001b[1m0s\u001b[0m 2ms/step\n",
      "Pred        MADRID  OSLO  VALENTIA\n",
      "True                              \n",
      "BASEL         1271     2      1695\n",
      "BELGRADE       830     1        47\n",
      "BUDAPEST       169     0         2\n",
      "DEBILT          57     0         2\n",
      "DUSSELDORF      25     0         0\n",
      "HEATHROW        79     0         7\n",
      "KASSEL           9     0         0\n",
      "LJUBJANA        32     0         1\n",
      "MAASTRICHT       0     0         1\n",
      "MADRID         172     0       176\n",
      "MUNCHENB         4     0         2\n",
      "OSLO             4     0         0\n",
      "STOCKHOLM        2     0         0\n"
     ]
    }
   ],
   "source": [
    "print(confusion_matrix(y_test, model.predict(X_test)))"
   ]
  },
  {
   "cell_type": "code",
   "execution_count": 43,
   "id": "8bccf393-7aa0-4e22-a1e8-4ac6baef0ed5",
   "metadata": {},
   "outputs": [
    {
     "name": "stderr",
     "output_type": "stream",
     "text": [
      "/home/cwidner/anaconda3/lib/python3.12/site-packages/keras/src/layers/rnn/rnn.py:204: UserWarning: Do not pass an `input_shape`/`input_dim` argument to a layer. When using Sequential models, prefer using an `Input(shape)` object as the first layer in the model instead.\n",
      "  super().__init__(**kwargs)\n"
     ]
    }
   ],
   "source": [
    "# Create a Keras leyered model. Use initial hyperparameters: 16, 32, 64, softmax\n",
    "epochs = 16\n",
    "batch_size = 32\n",
    "n_hidden = 64\n",
    "\n",
    "timesteps = len(X_train[0])\n",
    "input_dim = len(X_train[0][0])\n",
    "n_classes = len(y_train[0])\n",
    "\n",
    "model = Sequential()\n",
    "model.add(LSTM(n_hidden, input_shape=(timesteps, input_dim)))\n",
    "model.add(Dropout(0.5))\n",
    "model.add(Dense(n_classes, activation='softmax')) #Don't use relu here!"
   ]
  },
  {
   "cell_type": "code",
   "execution_count": 44,
   "id": "f7966cd4-3b31-4daf-9290-e5e41b2062c2",
   "metadata": {},
   "outputs": [],
   "source": [
    "model.compile(loss='categorical_crossentropy', optimizer='rmsprop', metrics=['accuracy'])"
   ]
  },
  {
   "cell_type": "code",
   "execution_count": 45,
   "id": "a9e249fa-7662-4cd3-a3b2-603c75b096e0",
   "metadata": {},
   "outputs": [
    {
     "name": "stdout",
     "output_type": "stream",
     "text": [
      "Epoch 1/16\n",
      "\u001b[1m574/574\u001b[0m \u001b[32m━━━━━━━━━━━━━━━━━━━━\u001b[0m\u001b[37m\u001b[0m \u001b[1m3s\u001b[0m 4ms/step - accuracy: 0.1283 - loss: 10.9141 - val_accuracy: 0.0488 - val_loss: 9.2996\n",
      "Epoch 2/16\n",
      "\u001b[1m574/574\u001b[0m \u001b[32m━━━━━━━━━━━━━━━━━━━━\u001b[0m\u001b[37m\u001b[0m \u001b[1m2s\u001b[0m 4ms/step - accuracy: 0.0858 - loss: 11.2670 - val_accuracy: 0.0444 - val_loss: 9.6402\n",
      "Epoch 3/16\n",
      "\u001b[1m574/574\u001b[0m \u001b[32m━━━━━━━━━━━━━━━━━━━━\u001b[0m\u001b[37m\u001b[0m \u001b[1m2s\u001b[0m 4ms/step - accuracy: 0.0803 - loss: 11.7487 - val_accuracy: 0.0497 - val_loss: 10.0011\n",
      "Epoch 4/16\n",
      "\u001b[1m574/574\u001b[0m \u001b[32m━━━━━━━━━━━━━━━━━━━━\u001b[0m\u001b[37m\u001b[0m \u001b[1m2s\u001b[0m 4ms/step - accuracy: 0.0810 - loss: 11.7616 - val_accuracy: 0.0329 - val_loss: 10.2304\n",
      "Epoch 5/16\n",
      "\u001b[1m574/574\u001b[0m \u001b[32m━━━━━━━━━━━━━━━━━━━━\u001b[0m\u001b[37m\u001b[0m \u001b[1m2s\u001b[0m 4ms/step - accuracy: 0.0800 - loss: 11.9714 - val_accuracy: 0.0429 - val_loss: 10.5103\n",
      "Epoch 6/16\n",
      "\u001b[1m574/574\u001b[0m \u001b[32m━━━━━━━━━━━━━━━━━━━━\u001b[0m\u001b[37m\u001b[0m \u001b[1m2s\u001b[0m 4ms/step - accuracy: 0.0781 - loss: 12.1424 - val_accuracy: 0.0346 - val_loss: 10.7573\n",
      "Epoch 7/16\n",
      "\u001b[1m574/574\u001b[0m \u001b[32m━━━━━━━━━━━━━━━━━━━━\u001b[0m\u001b[37m\u001b[0m \u001b[1m2s\u001b[0m 4ms/step - accuracy: 0.0826 - loss: 12.5385 - val_accuracy: 0.0279 - val_loss: 11.0135\n",
      "Epoch 8/16\n",
      "\u001b[1m574/574\u001b[0m \u001b[32m━━━━━━━━━━━━━━━━━━━━\u001b[0m\u001b[37m\u001b[0m \u001b[1m2s\u001b[0m 4ms/step - accuracy: 0.0782 - loss: 12.2994 - val_accuracy: 0.0418 - val_loss: 11.3571\n",
      "Epoch 9/16\n",
      "\u001b[1m574/574\u001b[0m \u001b[32m━━━━━━━━━━━━━━━━━━━━\u001b[0m\u001b[37m\u001b[0m \u001b[1m2s\u001b[0m 4ms/step - accuracy: 0.0741 - loss: 12.5768 - val_accuracy: 0.0556 - val_loss: 11.7315\n",
      "Epoch 10/16\n",
      "\u001b[1m574/574\u001b[0m \u001b[32m━━━━━━━━━━━━━━━━━━━━\u001b[0m\u001b[37m\u001b[0m \u001b[1m2s\u001b[0m 4ms/step - accuracy: 0.0832 - loss: 13.2368 - val_accuracy: 0.0451 - val_loss: 11.9125\n",
      "Epoch 11/16\n",
      "\u001b[1m574/574\u001b[0m \u001b[32m━━━━━━━━━━━━━━━━━━━━\u001b[0m\u001b[37m\u001b[0m \u001b[1m2s\u001b[0m 4ms/step - accuracy: 0.0830 - loss: 13.0439 - val_accuracy: 0.0381 - val_loss: 12.0970\n",
      "Epoch 12/16\n",
      "\u001b[1m574/574\u001b[0m \u001b[32m━━━━━━━━━━━━━━━━━━━━\u001b[0m\u001b[37m\u001b[0m \u001b[1m2s\u001b[0m 4ms/step - accuracy: 0.0825 - loss: 13.2432 - val_accuracy: 0.0429 - val_loss: 12.3742\n",
      "Epoch 13/16\n",
      "\u001b[1m574/574\u001b[0m \u001b[32m━━━━━━━━━━━━━━━━━━━━\u001b[0m\u001b[37m\u001b[0m \u001b[1m2s\u001b[0m 4ms/step - accuracy: 0.0756 - loss: 13.5635 - val_accuracy: 0.0497 - val_loss: 12.6365\n",
      "Epoch 14/16\n",
      "\u001b[1m574/574\u001b[0m \u001b[32m━━━━━━━━━━━━━━━━━━━━\u001b[0m\u001b[37m\u001b[0m \u001b[1m2s\u001b[0m 4ms/step - accuracy: 0.0819 - loss: 13.7101 - val_accuracy: 0.0466 - val_loss: 12.7518\n",
      "Epoch 15/16\n",
      "\u001b[1m574/574\u001b[0m \u001b[32m━━━━━━━━━━━━━━━━━━━━\u001b[0m\u001b[37m\u001b[0m \u001b[1m2s\u001b[0m 4ms/step - accuracy: 0.0831 - loss: 14.0469 - val_accuracy: 0.0503 - val_loss: 13.2870\n",
      "Epoch 16/16\n",
      "\u001b[1m574/574\u001b[0m \u001b[32m━━━━━━━━━━━━━━━━━━━━\u001b[0m\u001b[37m\u001b[0m \u001b[1m2s\u001b[0m 4ms/step - accuracy: 0.0822 - loss: 14.2941 - val_accuracy: 0.0412 - val_loss: 13.4820\n"
     ]
    },
    {
     "data": {
      "text/plain": [
       "<keras.src.callbacks.history.History at 0x74957e19e210>"
      ]
     },
     "execution_count": 45,
     "metadata": {},
     "output_type": "execute_result"
    }
   ],
   "source": [
    "model.fit(X_train, y_train, batch_size=batch_size, validation_data=(X_test,y_test),epochs=epochs)"
   ]
  },
  {
   "cell_type": "code",
   "execution_count": 46,
   "id": "e91a82b4-0df2-4c84-b89e-e0649d0d4dbd",
   "metadata": {},
   "outputs": [
    {
     "name": "stdout",
     "output_type": "stream",
     "text": [
      "\u001b[1m144/144\u001b[0m \u001b[32m━━━━━━━━━━━━━━━━━━━━\u001b[0m\u001b[37m\u001b[0m \u001b[1m1s\u001b[0m 3ms/step\n",
      "Pred        MADRID  MUNCHENB  OSLO  VALENTIA\n",
      "True                                        \n",
      "BASEL         1199         2     2      1765\n",
      "BELGRADE       807         0     1        70\n",
      "BUDAPEST       165         0     0         6\n",
      "DEBILT          58         0     0         1\n",
      "DUSSELDORF      24         0     0         1\n",
      "HEATHROW        78         0     0         8\n",
      "KASSEL           9         0     0         0\n",
      "LJUBJANA        30         0     0         3\n",
      "MAASTRICHT       0         0     0         1\n",
      "MADRID         189         0     0       159\n",
      "MUNCHENB         4         0     0         2\n",
      "OSLO             3         0     0         1\n",
      "STOCKHOLM        2         0     0         0\n"
     ]
    }
   ],
   "source": [
    "print(confusion_matrix(y_test, model.predict(X_test)))"
   ]
  },
  {
   "cell_type": "code",
   "execution_count": 88,
   "id": "04f5db00-8238-4531-90f6-3eb7eccea0c3",
   "metadata": {},
   "outputs": [
    {
     "name": "stderr",
     "output_type": "stream",
     "text": [
      "/home/cwidner/anaconda3/lib/python3.12/site-packages/keras/src/layers/rnn/rnn.py:204: UserWarning: Do not pass an `input_shape`/`input_dim` argument to a layer. When using Sequential models, prefer using an `Input(shape)` object as the first layer in the model instead.\n",
      "  super().__init__(**kwargs)\n"
     ]
    }
   ],
   "source": [
    "# Create a Keras leyered model. Use initial hyperparameters: 32, 64, 128, softmax\n",
    "epochs = 10\n",
    "batch_size = 16\n",
    "n_hidden = 128\n",
    "\n",
    "timesteps = len(X_train[0])\n",
    "input_dim = len(X_train[0][0])\n",
    "n_classes = len(y_train[0])\n",
    "\n",
    "model = Sequential()\n",
    "model.add(LSTM(n_hidden, input_shape=(timesteps, input_dim)))\n",
    "model.add(Dropout(0.5))\n",
    "model.add(Dense(n_classes, activation='softmax')) #Don't use relu here!"
   ]
  },
  {
   "cell_type": "code",
   "execution_count": 90,
   "id": "f8a299b7-4bb2-4f3c-83bc-b6076f9ac215",
   "metadata": {},
   "outputs": [],
   "source": [
    "model.compile(loss='categorical_crossentropy', optimizer='rmsprop', metrics=['accuracy'])"
   ]
  },
  {
   "cell_type": "code",
   "execution_count": 92,
   "id": "3aae1e3a-583c-4af0-ad96-451b90fe2ddf",
   "metadata": {},
   "outputs": [
    {
     "name": "stdout",
     "output_type": "stream",
     "text": [
      "Epoch 1/10\n",
      "\u001b[1m1148/1148\u001b[0m \u001b[32m━━━━━━━━━━━━━━━━━━━━\u001b[0m\u001b[37m\u001b[0m \u001b[1m6s\u001b[0m 5ms/step - accuracy: 0.0803 - loss: 11.6537 - val_accuracy: 0.0464 - val_loss: 10.6739\n",
      "Epoch 2/10\n",
      "\u001b[1m1148/1148\u001b[0m \u001b[32m━━━━━━━━━━━━━━━━━━━━\u001b[0m\u001b[37m\u001b[0m \u001b[1m5s\u001b[0m 4ms/step - accuracy: 0.0861 - loss: 12.6780 - val_accuracy: 0.0477 - val_loss: 12.1584\n",
      "Epoch 3/10\n",
      "\u001b[1m1148/1148\u001b[0m \u001b[32m━━━━━━━━━━━━━━━━━━━━\u001b[0m\u001b[37m\u001b[0m \u001b[1m5s\u001b[0m 5ms/step - accuracy: 0.0796 - loss: 13.7949 - val_accuracy: 0.0529 - val_loss: 13.1426\n",
      "Epoch 4/10\n",
      "\u001b[1m1148/1148\u001b[0m \u001b[32m━━━━━━━━━━━━━━━━━━━━\u001b[0m\u001b[37m\u001b[0m \u001b[1m5s\u001b[0m 4ms/step - accuracy: 0.0815 - loss: 14.7235 - val_accuracy: 0.0460 - val_loss: 14.4161\n",
      "Epoch 5/10\n",
      "\u001b[1m1148/1148\u001b[0m \u001b[32m━━━━━━━━━━━━━━━━━━━━\u001b[0m\u001b[37m\u001b[0m \u001b[1m5s\u001b[0m 5ms/step - accuracy: 0.0889 - loss: 15.9520 - val_accuracy: 0.0418 - val_loss: 15.9449\n",
      "Epoch 6/10\n",
      "\u001b[1m1148/1148\u001b[0m \u001b[32m━━━━━━━━━━━━━━━━━━━━\u001b[0m\u001b[37m\u001b[0m \u001b[1m5s\u001b[0m 4ms/step - accuracy: 0.0811 - loss: 16.9948 - val_accuracy: 0.0523 - val_loss: 17.0717\n",
      "Epoch 7/10\n",
      "\u001b[1m1148/1148\u001b[0m \u001b[32m━━━━━━━━━━━━━━━━━━━━\u001b[0m\u001b[37m\u001b[0m \u001b[1m5s\u001b[0m 4ms/step - accuracy: 0.0744 - loss: 17.8268 - val_accuracy: 0.0427 - val_loss: 18.1240\n",
      "Epoch 8/10\n",
      "\u001b[1m1148/1148\u001b[0m \u001b[32m━━━━━━━━━━━━━━━━━━━━\u001b[0m\u001b[37m\u001b[0m \u001b[1m5s\u001b[0m 4ms/step - accuracy: 0.0722 - loss: 19.1477 - val_accuracy: 0.0471 - val_loss: 19.2888\n",
      "Epoch 9/10\n",
      "\u001b[1m1148/1148\u001b[0m \u001b[32m━━━━━━━━━━━━━━━━━━━━\u001b[0m\u001b[37m\u001b[0m \u001b[1m5s\u001b[0m 5ms/step - accuracy: 0.0779 - loss: 20.2623 - val_accuracy: 0.0458 - val_loss: 20.3721\n",
      "Epoch 10/10\n",
      "\u001b[1m1148/1148\u001b[0m \u001b[32m━━━━━━━━━━━━━━━━━━━━\u001b[0m\u001b[37m\u001b[0m \u001b[1m5s\u001b[0m 4ms/step - accuracy: 0.0676 - loss: 20.9133 - val_accuracy: 0.0427 - val_loss: 21.3094\n"
     ]
    },
    {
     "data": {
      "text/plain": [
       "<keras.src.callbacks.history.History at 0x7495917501a0>"
      ]
     },
     "execution_count": 92,
     "metadata": {},
     "output_type": "execute_result"
    }
   ],
   "source": [
    "model.fit(X_train, y_train, batch_size=batch_size, validation_data=(X_test,y_test),epochs=epochs)"
   ]
  },
  {
   "cell_type": "code",
   "execution_count": 94,
   "id": "b469529b-5ce5-467d-b24a-8082b189252f",
   "metadata": {},
   "outputs": [
    {
     "name": "stdout",
     "output_type": "stream",
     "text": [
      "\u001b[1m144/144\u001b[0m \u001b[32m━━━━━━━━━━━━━━━━━━━━\u001b[0m\u001b[37m\u001b[0m \u001b[1m1s\u001b[0m 5ms/step\n",
      "Pred        BELGRADE  KASSEL  MADRID  OSLO  SONNBLICK  VALENTIA\n",
      "True                                                           \n",
      "BASEL              0       1    1218    13         67      1669\n",
      "BELGRADE           0       0     812     1          0        65\n",
      "BUDAPEST           1       0     163     2          0         5\n",
      "DEBILT             0       0      59     0          0         0\n",
      "DUSSELDORF         0       0      25     0          0         0\n",
      "HEATHROW           0       0      82     0          0         4\n",
      "KASSEL             0       0       9     0          0         0\n",
      "LJUBJANA           0       0      31     2          0         0\n",
      "MAASTRICHT         0       0       0     0          0         1\n",
      "MADRID             0       0     196     3          2       147\n",
      "MUNCHENB           0       0       4     0          0         2\n",
      "OSLO               0       0       4     0          0         0\n",
      "STOCKHOLM          0       0       2     0          0         0\n"
     ]
    }
   ],
   "source": [
    "print(confusion_matrix(y_test, model.predict(X_test)))"
   ]
  },
  {
   "cell_type": "code",
   "execution_count": null,
   "id": "da6edefa-ca89-4f69-8c31-4d1814ac753d",
   "metadata": {},
   "outputs": [],
   "source": []
  }
 ],
 "metadata": {
  "kernelspec": {
   "display_name": "Python 3 (ipykernel)",
   "language": "python",
   "name": "python3"
  },
  "language_info": {
   "codemirror_mode": {
    "name": "ipython",
    "version": 3
   },
   "file_extension": ".py",
   "mimetype": "text/x-python",
   "name": "python",
   "nbconvert_exporter": "python",
   "pygments_lexer": "ipython3",
   "version": "3.12.4"
  }
 },
 "nbformat": 4,
 "nbformat_minor": 5
}
